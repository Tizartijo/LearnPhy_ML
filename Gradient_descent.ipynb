{
  "nbformat": 4,
  "nbformat_minor": 0,
  "metadata": {
    "colab": {
      "name": "Gradient_descent.ipynb",
      "provenance": [],
      "collapsed_sections": [],
      "authorship_tag": "ABX9TyOUgU+NQgYg4D9fMEyJc3vU",
      "include_colab_link": true
    },
    "kernelspec": {
      "name": "python3",
      "display_name": "Python 3"
    }
  },
  "cells": [
    {
      "cell_type": "markdown",
      "metadata": {
        "id": "view-in-github",
        "colab_type": "text"
      },
      "source": [
        "<a href=\"https://colab.research.google.com/github/Tizartijo/LearnPhy_ML/blob/master/Gradient_descent.ipynb\" target=\"_parent\"><img src=\"https://colab.research.google.com/assets/colab-badge.svg\" alt=\"Open In Colab\"/></a>"
      ]
    },
    {
      "cell_type": "markdown",
      "metadata": {
        "id": "kEYUbkLhMGSL",
        "colab_type": "text"
      },
      "source": [
        "# **GRADIENT DESCENT ALGORITHMS**\n",
        "\n",
        "---"
      ]
    },
    {
      "cell_type": "markdown",
      "metadata": {
        "id": "_1ysSUZdLnkA",
        "colab_type": "text"
      },
      "source": [
        "# Implementation of linear regression with two coefficients"
      ]
    },
    {
      "cell_type": "code",
      "metadata": {
        "id": "pFw3A-0TLp3J",
        "colab_type": "code",
        "colab": {
          "base_uri": "https://localhost:8080/",
          "height": 301
        },
        "outputId": "5c73a903-aac4-4b9a-8491-11a9b19eb158"
      },
      "source": [
        "import numpy as np\n",
        "from matplotlib import pyplot as plt\n",
        "\n",
        "def batch_grad_desc(X,y,coef,alfa=0.5,nV=100):  \n",
        "  N = y.shape[0]\n",
        "\n",
        "  for i in range(nV):\n",
        "    yhat  = X@coef \n",
        "    error = yhat-y\n",
        "\n",
        "    # Partial derivative and coefficient update\n",
        "    coef[0] = coef[0] - alfa * 1/N * np.sum(error)\n",
        "    coef[1] = coef[1] - alfa * 1/N * np.sum(error*X[:,1])\n",
        "  return coef\n",
        "\n",
        "# Linear regression calculation by gradient descent algorithm\n",
        "np.random.seed(303)\n",
        "\n",
        "# Settings\n",
        "N    = 500\n",
        "nV   = 500\n",
        "alfa = 0.5\n",
        "\n",
        "coef = np.array([0.0,0.0]) # Initial guess\n",
        "x = np.random.rand(N)\n",
        "y = -x+np.random.randn(N)*0.5\n",
        "\n",
        "# add a column of ones before x vector\n",
        "X = np.vstack((np.ones_like(x),x)).T\n",
        "\n",
        "# Gradient descent algorithm\n",
        "coef = batch_grad_desc(X,y,coef,alfa,nV)\n",
        "\n",
        "# Coefficient projection\n",
        "yhat  = X@coef \n",
        "\n",
        "# Compare result with linear regression fit by matrix multiplication\n",
        "beta = np.linalg.inv(X.T@X) @ (X.T@y)\n",
        "\n",
        "print(coef)\n",
        "print(beta)\n",
        "\n",
        "plt.plot(x,y,'.')\n",
        "plt.plot(x,yhat)\n",
        "plt.show()"
      ],
      "execution_count": 1,
      "outputs": [
        {
          "output_type": "stream",
          "text": [
            "[ 0.05023546 -1.04498937]\n",
            "[ 0.05023547 -1.0449894 ]\n"
          ],
          "name": "stdout"
        },
        {
          "output_type": "display_data",
          "data": {
            "image/png": "[encoded data removed]",
            "text/plain": [
              "<Figure size 432x288 with 1 Axes>"
            ]
          },
          "metadata": {
            "tags": [],
            "needs_background": "light"
          }
        }
      ]
    },
    {
      "cell_type": "markdown",
      "metadata": {
        "id": "cZWVaJ7XLtLz",
        "colab_type": "text"
      },
      "source": [
        "# Implementation of linear regression with N coefficients"
      ]
    },
    {
      "cell_type": "code",
      "metadata": {
        "id": "UFf18JlljCoK",
        "colab_type": "code",
        "colab": {
          "base_uri": "https://localhost:8080/",
          "height": 337
        },
        "outputId": "e4ec9943-ff48-4f43-9940-318fd3042106"
      },
      "source": [
        "import numpy as np\n",
        "from matplotlib import pyplot as plt\n",
        "\n",
        "def batch_grad_desc(X,y,coef,alfa=0.05,nV=100):  \n",
        "  N  = X.shape[0]\n",
        "  nc = coef.shape[0]\n",
        "  E = np.zeros(nV)\n",
        "\n",
        "  for i in range(nV):\n",
        "    yhat  = X@coef \n",
        "    error = yhat-y\n",
        "    E[i] = np.mean(error**2)\n",
        "\n",
        "    # Partial derivative and coefficient update\n",
        "    for c in range(nc):\n",
        "      coef[c] = coef[c] - alfa * 1/N * np.sum(error*X[:,c])\n",
        "\n",
        "  return coef,E\n",
        "\n",
        "def ordinary_least_squares(X, y):\n",
        "  # Compute theta_hat using OLS\n",
        "  theta_hat = np.linalg.inv(X.T @ X) @ X.T @ y  \n",
        "  return theta_hat\n",
        "\n",
        "# Linear regression calculation by gradient descent algorithm\n",
        "# np.random.seed(33)\n",
        "\n",
        "# Settings\n",
        "N    = 40\n",
        "nvar = 2\n",
        "nV   = 100\n",
        "alfa = 0.05\n",
        "\n",
        "# Draw x and calculate y\n",
        "theta = np.random.randint(-10,10,nvar+1)\n",
        "# theta = [0, -2, -3]\n",
        "\n",
        "X = np.ones((N,nvar+1))\n",
        "for nc in range(nvar):\n",
        "  X[:,nc] = np.random.uniform(-2, 2, N)\n",
        "noise = np.random.randn(N)\n",
        "y = X @ theta + noise \n",
        "\n",
        "# Gradient descent algorithm\n",
        "coef = np.zeros(nvar+1) # Initial guess\n",
        "coef,E = batch_grad_desc(X,y,coef,alfa,nV)\n",
        "\n",
        "# Compare result with normal linear regression fit \n",
        "beta = ordinary_least_squares(X, y)\n",
        "\n",
        "# Coefficient projection\n",
        "yhat1  = X@beta \n",
        "yhat2  = X@coef \n",
        "\n",
        "error1 = np.mean((y-yhat1)**2)\n",
        "error2 = np.mean((y-yhat2)**2)\n",
        "\n",
        "print('nCoeff:',coef.shape[0])\n",
        "print('Coef 1:',coef)\n",
        "print('Coef 2:',beta)\n",
        "print('Errors:',error1,error2)\n",
        "\n",
        "# Plots\n",
        "plt.subplot(1,2,1)\n",
        "plt.plot(E)\n",
        "plt.plot(np.ones(nV)*error1)\n",
        "\n",
        "plt.subplot(1,2,2)\n",
        "plt.plot(y,yhat1,'.')\n",
        "plt.plot(y,yhat2,'.')\n",
        "plt.show()\n"
      ],
      "execution_count": 60,
      "outputs": [
        {
          "output_type": "stream",
          "text": [
            "nCoeff: 3\n",
            "Coef 1: [-9.03086286  5.96808374 -1.464658  ]\n",
            "Coef 2: [-9.06190551  5.980027   -1.42573447]\n",
            "Errors: 0.9925576417294113 0.9948717052016441\n"
          ],
          "name": "stdout"
        },
        {
          "output_type": "display_data",
          "data": {
            "image/png": "[encoded data removed]",
            "text/plain": [
              "<Figure size 432x288 with 2 Axes>"
            ]
          },
          "metadata": {
            "tags": [],
            "needs_background": "light"
          }
        }
      ]
    },
    {
      "cell_type": "markdown",
      "metadata": {
        "id": "3dFYQFEUL2oa",
        "colab_type": "text"
      },
      "source": [
        "# Implementation of Polinomial regression ¿?\n",
        "\n",
        "---\n"
      ]
    },
    {
      "cell_type": "markdown",
      "metadata": {
        "id": "D9AS5MZpdfl6",
        "colab_type": "text"
      },
      "source": [
        "### Structure design matrix\n",
        "\n",
        "Create a function (`make_design_matrix`) that structures the design matrix given the input data and the order of the polynomial you wish to fit"
      ]
    },
    {
      "cell_type": "code",
      "metadata": {
        "id": "799zqmgwL1jm",
        "colab_type": "code",
        "colab": {}
      },
      "source": [
        "def make_design_matrix(x, order):\n",
        "  \"\"\"Create the design matrix of inputs for use in polynomial regression\n",
        "  Args:\n",
        "    x (ndarray): input vector of shape (samples,)\n",
        "    order (scalar): polynomial regression order\n",
        "  Returns:\n",
        "    ndarray: design matrix for polynomial regression of shape (samples, order+1)\n",
        "  \"\"\"\n",
        "\n",
        "  # Broadcast to shape (n x 1) so dimensions work\n",
        "  if x.ndim == 1:\n",
        "    x = x[:, None]\n",
        "\n",
        "  #if x has more than one feature, we don't want multiple columns of ones so we assign\n",
        "  # x^0 here\n",
        "  design_matrix = np.ones((x.shape[0], 1))\n",
        "\n",
        "  # Loop through rest of degrees and stack columns (hint: np.hstack)\n",
        "  for degree in range(1, order + 1):\n",
        "      design_matrix = np.hstack((design_matrix, x**degree))\n",
        "\n",
        "  return design_matrix"
      ],
      "execution_count": 44,
      "outputs": []
    },
    {
      "cell_type": "code",
      "metadata": {
        "id": "GtVH6CRJjf9b",
        "colab_type": "code",
        "colab": {}
      },
      "source": [
        "def plot_fitted_polynomials(x, y, theta_hat,order):\n",
        "  \"\"\" Plot polynomials of different orders\n",
        "\n",
        "  Args:\n",
        "    x (ndarray): input vector of shape (n_samples)\n",
        "    y (ndarray): vector of measurements of shape (n_samples)\n",
        "    theta_hat (dict): polynomial regression weights for different orders\n",
        "  \"\"\"\n",
        "\n",
        "  x_grid = np.linspace(x.min() - .5, x.max() + .5)\n",
        "\n",
        "  X_design = make_design_matrix(x_grid, order)\n",
        "  y_fit    = X_design @ theta_hat\n",
        "\n",
        "  return x_grid,y_fit\n",
        "\n",
        "  \n"
      ],
      "execution_count": 113,
      "outputs": []
    },
    {
      "cell_type": "markdown",
      "metadata": {
        "id": "3HG5_dltd13h",
        "colab_type": "text"
      },
      "source": [
        "### Fitting polynomial regression models with different orders \n",
        "\n",
        "\n",
        "Fit polynomial regression models to find the regression coefficients ($\\theta_0, \\theta_1, \\theta_2,$ ...) by solving the least squares problem. Create a function `solve_poly_reg` that loops over different order polynomials (up to `max_order`), fits that model, and saves out the weights for each. You may invoke the `ordinary_least_squares` function."
      ]
    },
    {
      "cell_type": "code",
      "metadata": {
        "id": "39PL5bCnLlH_",
        "colab_type": "code",
        "colab": {
          "base_uri": "https://localhost:8080/",
          "height": 319
        },
        "outputId": "d0589497-15c9-4250-a71e-c99e3439d3f0"
      },
      "source": [
        "# Generate random samples\n",
        "np.random.seed(121)\n",
        "n_samples = 300\n",
        "x = np.random.uniform(-2, 2.5, n_samples)  # inputs uniformly sampled from [-2, 2.5)\n",
        "y =  x**2 - x - 2   # computing the outputs\n",
        "\n",
        "output_noise = 1/8 * np.random.randn(n_samples)\n",
        "y += output_noise  # adding some output noise\n",
        "\n",
        "input_noise = 1/2 * np.random.randn(n_samples)\n",
        "x += input_noise  # adding some input noise\n",
        "\n",
        "# Fit polynomial regression by fitting with linear regression\n",
        "order = 3\n",
        "\n",
        "# Create design matrix\n",
        "X_design = make_design_matrix(x, order)\n",
        "\n",
        "# Fit polynomial model by simple linear least squares\n",
        "beta = ordinary_least_squares(X_design, y)\n",
        "\n",
        "# Fit by gradient descent (linear fitting)\n",
        "alfa = 0.0001\n",
        "nV   = 100000\n",
        "coef,E = batch_grad_desc(X_design,y,np.zeros(order+1),alfa,nV)\n",
        "\n",
        "print(beta)\n",
        "print(coef)\n",
        "\n",
        "xgd,ygd   = plot_fitted_polynomials(x, y, coef,order)\n",
        "xlin,ylin = plot_fitted_polynomials(x, y, coef,order)\n",
        "\n",
        "plt.plot(x,y,'.')\n",
        "plt.plot(xgd,ygd,'r')\n",
        "plt.plot(xlin,ylin,'b')\n",
        "plt.show()"
      ],
      "execution_count": 122,
      "outputs": [
        {
          "output_type": "stream",
          "text": [
            "[-1.40265721 -0.73149039  0.55842682  0.00697331]\n",
            "[-1.39166576 -0.73661941  0.55513627  0.00817198]\n"
          ],
          "name": "stdout"
        },
        {
          "output_type": "execute_result",
          "data": {
            "text/plain": [
              "[<matplotlib.lines.Line2D at 0x7fc5750074a8>]"
            ]
          },
          "metadata": {
            "tags": []
          },
          "execution_count": 122
        },
        {
          "output_type": "display_data",
          "data": {
            "image/png": "[encoded data removed]",
            "text/plain": [
              "<Figure size 432x288 with 1 Axes>"
            ]
          },
          "metadata": {
            "tags": [],
            "needs_background": "light"
          }
        }
      ]
    }
  ]
}