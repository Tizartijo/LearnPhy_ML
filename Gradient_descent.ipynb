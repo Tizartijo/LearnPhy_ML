{
  "nbformat": 4,
  "nbformat_minor": 0,
  "metadata": {
    "colab": {
      "name": "Gradient_descent.ipynb",
      "provenance": [],
      "collapsed_sections": [],
      "authorship_tag": "ABX9TyN9rPXZ/f9cedPYPbHOTUo9",
      "include_colab_link": true
    },
    "kernelspec": {
      "name": "python3",
      "display_name": "Python 3"
    }
  },
  "cells": [
    {
      "cell_type": "markdown",
      "metadata": {
        "id": "view-in-github",
        "colab_type": "text"
      },
      "source": [
        "<a href=\"https://colab.research.google.com/github/Tizartijo/LearnPhy_ML/blob/master/Gradient_descent.ipynb\" target=\"_parent\"><img src=\"https://colab.research.google.com/assets/colab-badge.svg\" alt=\"Open In Colab\"/></a>"
      ]
    },
    {
      "cell_type": "markdown",
      "metadata": {
        "id": "kEYUbkLhMGSL",
        "colab_type": "text"
      },
      "source": [
        "\n",
        "\n",
        "```\n",
        "# This is formatted as code\n",
        "```\n",
        "\n",
        "# **GRADIENT DESCENT ALGORITHMS**\n",
        "(Manual functions)\n",
        "\n",
        "---"
      ]
    },
    {
      "cell_type": "markdown",
      "metadata": {
        "id": "_1ysSUZdLnkA",
        "colab_type": "text"
      },
      "source": [
        "# Implementation of linear regression with two coefficients"
      ]
    },
    {
      "cell_type": "code",
      "metadata": {
        "id": "pFw3A-0TLp3J",
        "colab_type": "code",
        "colab": {
          "base_uri": "https://localhost:8080/",
          "height": 301
        },
        "outputId": "5c73a903-aac4-4b9a-8491-11a9b19eb158"
      },
      "source": [
        "import numpy as np\n",
        "from matplotlib import pyplot as plt\n",
        "\n",
        "def batch_grad_desc(X,y,coef,alfa=0.5,nV=100):  \n",
        "  N = y.shape[0]\n",
        "\n",
        "  for i in range(nV):\n",
        "    yhat  = X@coef \n",
        "    error = yhat-y\n",
        "\n",
        "    # Partial derivative and coefficient update\n",
        "    coef[0] = coef[0] - alfa * 1/N * np.sum(error)\n",
        "    coef[1] = coef[1] - alfa * 1/N * np.sum(error*X[:,1])\n",
        "  return coef\n",
        "\n",
        "# Linear regression calculation by gradient descent algorithm\n",
        "np.random.seed(303)\n",
        "\n",
        "# Settings\n",
        "N    = 500\n",
        "nV   = 500\n",
        "alfa = 0.5\n",
        "\n",
        "coef = np.array([0.0,0.0]) # Initial guess\n",
        "x = np.random.rand(N)\n",
        "y = -x+np.random.randn(N)*0.5\n",
        "\n",
        "# add a column of ones before x vector\n",
        "X = np.vstack((np.ones_like(x),x)).T\n",
        "\n",
        "# Gradient descent algorithm\n",
        "coef = batch_grad_desc(X,y,coef,alfa,nV)\n",
        "\n",
        "# Coefficient projection\n",
        "yhat  = X@coef \n",
        "\n",
        "# Compare result with linear regression fit by matrix multiplication\n",
        "beta = np.linalg.inv(X.T@X) @ (X.T@y)\n",
        "\n",
        "print(coef)\n",
        "print(beta)\n",
        "\n",
        "plt.plot(x,y,'.')\n",
        "plt.plot(x,yhat)\n",
        "plt.show()"
      ],
      "execution_count": 1,
      "outputs": [
        {
          "output_type": "stream",
          "text": [
            "[ 0.05023546 -1.04498937]\n",
            "[ 0.05023547 -1.0449894 ]\n"
          ],
          "name": "stdout"
        },
        {
          "output_type": "display_data",
          "data": {
            "image/png": "[encoded data removed]",
            "text/plain": [
              "<Figure size 432x288 with 1 Axes>"
            ]
          },
          "metadata": {
            "tags": [],
            "needs_background": "light"
          }
        }
      ]
    },
    {
      "cell_type": "markdown",
      "metadata": {
        "id": "cZWVaJ7XLtLz",
        "colab_type": "text"
      },
      "source": [
        "# Implementation of linear regression with N coefficients"
      ]
    },
    {
      "cell_type": "code",
      "metadata": {
        "id": "UFf18JlljCoK",
        "colab_type": "code",
        "colab": {
          "base_uri": "https://localhost:8080/",
          "height": 337
        },
        "outputId": "e4ec9943-ff48-4f43-9940-318fd3042106"
      },
      "source": [
        "import numpy as np\n",
        "from matplotlib import pyplot as plt\n",
        "\n",
        "def batch_grad_desc(X,y,coef,alfa=0.05,nV=100):  \n",
        "  N  = X.shape[0]\n",
        "  nc = coef.shape[0]\n",
        "  E = np.zeros(nV)\n",
        "\n",
        "  for i in range(nV):\n",
        "    yhat  = X@coef \n",
        "    error = yhat-y\n",
        "    E[i] = np.mean(error**2)\n",
        "\n",
        "    # Partial derivative and coefficient update\n",
        "    for c in range(nc):\n",
        "      coef[c] = coef[c] - alfa * 1/N * np.sum(error*X[:,c])\n",
        "\n",
        "  return coef,E\n",
        "\n",
        "def ordinary_least_squares(X, y):\n",
        "  # Compute theta_hat using OLS\n",
        "  theta_hat = np.linalg.inv(X.T @ X) @ X.T @ y  \n",
        "  return theta_hat\n",
        "\n",
        "# Linear regression calculation by gradient descent algorithm\n",
        "# np.random.seed(33)\n",
        "\n",
        "# Settings\n",
        "N    = 40\n",
        "nvar = 2\n",
        "nV   = 100\n",
        "alfa = 0.05\n",
        "\n",
        "# Draw x and calculate y\n",
        "theta = np.random.randint(-10,10,nvar+1)\n",
        "# theta = [0, -2, -3]\n",
        "\n",
        "X = np.ones((N,nvar+1))\n",
        "for nc in range(nvar):\n",
        "  X[:,nc] = np.random.uniform(-2, 2, N)\n",
        "noise = np.random.randn(N)\n",
        "y = X @ theta + noise \n",
        "\n",
        "# Gradient descent algorithm\n",
        "coef = np.zeros(nvar+1) # Initial guess\n",
        "coef,E = batch_grad_desc(X,y,coef,alfa,nV)\n",
        "\n",
        "# Compare result with normal linear regression fit \n",
        "beta = ordinary_least_squares(X, y)\n",
        "\n",
        "# Coefficient projection\n",
        "yhat1  = X@beta \n",
        "yhat2  = X@coef \n",
        "\n",
        "error1 = np.mean((y-yhat1)**2)\n",
        "error2 = np.mean((y-yhat2)**2)\n",
        "\n",
        "print('nCoeff:',coef.shape[0])\n",
        "print('Coef 1:',coef)\n",
        "print('Coef 2:',beta)\n",
        "print('Errors:',error1,error2)\n",
        "\n",
        "# Plots\n",
        "plt.subplot(1,2,1)\n",
        "plt.plot(E)\n",
        "plt.plot(np.ones(nV)*error1)\n",
        "\n",
        "plt.subplot(1,2,2)\n",
        "plt.plot(y,yhat1,'.')\n",
        "plt.plot(y,yhat2,'.')\n",
        "plt.show()\n"
      ],
      "execution_count": 60,
      "outputs": [
        {
          "output_type": "stream",
          "text": [
            "nCoeff: 3\n",
            "Coef 1: [-9.03086286  5.96808374 -1.464658  ]\n",
            "Coef 2: [-9.06190551  5.980027   -1.42573447]\n",
            "Errors: 0.9925576417294113 0.9948717052016441\n"
          ],
          "name": "stdout"
        },
        {
          "output_type": "display_data",
          "data": {
            "image/png": "[encoded data removed]",
            "text/plain": [
              "<Figure size 432x288 with 2 Axes>"
            ]
          },
          "metadata": {
            "tags": [],
            "needs_background": "light"
          }
        }
      ]
    },
    {
      "cell_type": "markdown",
      "metadata": {
        "id": "3dFYQFEUL2oa",
        "colab_type": "text"
      },
      "source": [
        "# Implementation of Polinomial regression ¿?\n",
        "\n",
        "---\n"
      ]
    },
    {
      "cell_type": "markdown",
      "metadata": {
        "id": "D9AS5MZpdfl6",
        "colab_type": "text"
      },
      "source": [
        "### Structure design matrix\n",
        "\n",
        "Create a function (`make_design_matrix`) that structures the design matrix given the input data and the order of the polynomial you wish to fit"
      ]
    },
    {
      "cell_type": "code",
      "metadata": {
        "id": "5x55YY4G4XJW",
        "colab_type": "code",
        "colab": {}
      },
      "source": [
        "import numpy as np\n",
        "from matplotlib import pyplot as plt"
      ],
      "execution_count": null,
      "outputs": []
    },
    {
      "cell_type": "code",
      "metadata": {
        "id": "799zqmgwL1jm",
        "colab_type": "code",
        "colab": {}
      },
      "source": [
        "def make_design_matrix(x, order):\n",
        "  \"\"\"Create the design matrix of inputs for use in polynomial regression\n",
        "  Args:\n",
        "    x (ndarray): input vector of shape (samples,)\n",
        "    order (scalar): polynomial regression order\n",
        "  Returns:\n",
        "    ndarray: design matrix for polynomial regression of shape (samples, order+1)\n",
        "  \"\"\"\n",
        "\n",
        "  # Broadcast to shape (n x 1) so dimensions work\n",
        "  if x.ndim == 1:\n",
        "    x = x[:, None]\n",
        "\n",
        "  #if x has more than one feature, we don't want multiple columns of ones so we assign\n",
        "  # x^0 here\n",
        "  design_matrix = np.ones((x.shape[0], 1))\n",
        "\n",
        "  # Loop through rest of degrees and stack columns (hint: np.hstack)\n",
        "  for degree in range(1, order + 1):\n",
        "      design_matrix = np.hstack((design_matrix, x**degree))\n",
        "\n",
        "  return design_matrix"
      ],
      "execution_count": 44,
      "outputs": []
    },
    {
      "cell_type": "code",
      "metadata": {
        "id": "GtVH6CRJjf9b",
        "colab_type": "code",
        "colab": {}
      },
      "source": [
        "def plot_fitted_polynomials(x, y, theta_hat,order):\n",
        "  \"\"\" Plot polynomials of different orders\n",
        "\n",
        "  Args:\n",
        "    x (ndarray): input vector of shape (n_samples)\n",
        "    y (ndarray): vector of measurements of shape (n_samples)\n",
        "    theta_hat (dict): polynomial regression weights for different orders\n",
        "  \"\"\"\n",
        "\n",
        "  x_grid = np.linspace(x.min() - .5, x.max() + .5)\n",
        "\n",
        "  X_design = make_design_matrix(x_grid, order)\n",
        "  y_fit    = X_design @ theta_hat\n",
        "\n",
        "  return x_grid,y_fit"
      ],
      "execution_count": 113,
      "outputs": []
    },
    {
      "cell_type": "markdown",
      "metadata": {
        "id": "3HG5_dltd13h",
        "colab_type": "text"
      },
      "source": [
        "### Fitting polynomial regression models with different orders \n",
        "\n",
        "\n",
        "Fit polynomial regression models to find the regression coefficients ($\\theta_0, \\theta_1, \\theta_2,$ ...) by solving the least squares problem. Create a function `solve_poly_reg` that loops over different order polynomials (up to `max_order`), fits that model, and saves out the weights for each. You may invoke the `ordinary_least_squares` function."
      ]
    },
    {
      "cell_type": "code",
      "metadata": {
        "id": "39PL5bCnLlH_",
        "colab_type": "code",
        "colab": {
          "base_uri": "https://localhost:8080/",
          "height": 301
        },
        "outputId": "e9fa6941-fab1-4220-fff4-631de57e3d3d"
      },
      "source": [
        "# Generate random samples\n",
        "np.random.seed(121)\n",
        "n_samples = 300\n",
        "x = np.random.uniform(-2, 2.5, n_samples)  # inputs uniformly sampled from [-2, 2.5)\n",
        "y =  x**2 - x - 2   # computing the outputs\n",
        "\n",
        "output_noise = 1/8 * np.random.randn(n_samples)\n",
        "y += output_noise  # adding some output noise\n",
        "\n",
        "input_noise = 1/2 * np.random.randn(n_samples)\n",
        "x += input_noise  # adding some input noise\n",
        "\n",
        "# Fit polynomial regression by fitting with linear regression\n",
        "order = 4\n",
        "\n",
        "# Create design matrix\n",
        "X_design = make_design_matrix(x, order)\n",
        "\n",
        "# Fit polynomial model by simple linear least squares\n",
        "beta = ordinary_least_squares(X_design, y)\n",
        "\n",
        "# Fit by gradient descent (linear fitting)\n",
        "alfa = 0.0001\n",
        "nV   = 100000\n",
        "coef,E = batch_grad_desc(X_design,y,np.zeros(order+1),alfa,nV)\n",
        "\n",
        "print(beta)\n",
        "print(coef)\n",
        "\n",
        "xgd,ygd   = plot_fitted_polynomials(x, y, coef,order)\n",
        "xlin,ylin = plot_fitted_polynomials(x, y, beta,order)\n",
        "\n",
        "plt.plot(x,y,'.')\n",
        "plt.plot(xgd,ygd,'r')\n",
        "plt.plot(xlin,ylin,'b')\n",
        "plt.show()"
      ],
      "execution_count": 127,
      "outputs": [
        {
          "output_type": "stream",
          "text": [
            "[-1.65430891 -1.06184651  0.91838323  0.10285994 -0.05894612]\n",
            "[-1.57019393 -0.99111648  0.85469466  0.0871241  -0.05083519]\n"
          ],
          "name": "stdout"
        },
        {
          "output_type": "display_data",
          "data": {
            "image/png": "[encoded data removed]",
            "text/plain": [
              "<Figure size 432x288 with 1 Axes>"
            ]
          },
          "metadata": {
            "tags": [],
            "needs_background": "light"
          }
        }
      ]
    },
    {
      "cell_type": "markdown",
      "metadata": {
        "id": "5QoaapthoRJW",
        "colab_type": "text"
      },
      "source": [
        "# Sigmoid function\n",
        "\n",
        "---"
      ]
    },
    {
      "cell_type": "code",
      "metadata": {
        "id": "O8QeIw7f4anQ",
        "colab_type": "code",
        "colab": {}
      },
      "source": [
        "import numpy as np\n",
        "from matplotlib import pyplot as plt"
      ],
      "execution_count": null,
      "outputs": []
    },
    {
      "cell_type": "code",
      "metadata": {
        "id": "NpnpAyCkoP8S",
        "colab_type": "code",
        "colab": {
          "base_uri": "https://localhost:8080/",
          "height": 262
        },
        "outputId": "c04354de-c6b6-4168-87fc-8b3bc22510c5"
      },
      "source": [
        "x = np.linspace(-10,10,100)\n",
        "y = 1 / (1 + np.exp(-x))\n",
        "\n",
        "# Change origin and slope coefficients\n",
        "theta = np.array([5,1])\n",
        "X = np.c_[np.ones((x.shape[0], 1)), x]\n",
        "\n",
        "Y = 1 / (1 + np.exp(-X@theta))\n",
        "\n",
        "plt.plot(x,y,'b')\n",
        "plt.plot(x,Y,'r')"
      ],
      "execution_count": 161,
      "outputs": [
        {
          "output_type": "error",
          "ename": "ValueError",
          "evalue": "ignored",
          "traceback": [
            "\u001b[0;31m---------------------------------------------------------------------------\u001b[0m",
            "\u001b[0;31mValueError\u001b[0m                                Traceback (most recent call last)",
            "\u001b[0;32m<ipython-input-161-a9381943a27e>\u001b[0m in \u001b[0;36m<module>\u001b[0;34m()\u001b[0m\n\u001b[1;32m      6\u001b[0m \u001b[0mX\u001b[0m \u001b[0;34m=\u001b[0m \u001b[0mnp\u001b[0m\u001b[0;34m.\u001b[0m\u001b[0mc_\u001b[0m\u001b[0;34m[\u001b[0m\u001b[0mnp\u001b[0m\u001b[0;34m.\u001b[0m\u001b[0mones\u001b[0m\u001b[0;34m(\u001b[0m\u001b[0;34m(\u001b[0m\u001b[0mx\u001b[0m\u001b[0;34m.\u001b[0m\u001b[0mshape\u001b[0m\u001b[0;34m[\u001b[0m\u001b[0;36m0\u001b[0m\u001b[0;34m]\u001b[0m\u001b[0;34m,\u001b[0m \u001b[0;36m1\u001b[0m\u001b[0;34m)\u001b[0m\u001b[0;34m)\u001b[0m\u001b[0;34m,\u001b[0m \u001b[0mx\u001b[0m\u001b[0;34m]\u001b[0m\u001b[0;34m\u001b[0m\u001b[0;34m\u001b[0m\u001b[0m\n\u001b[1;32m      7\u001b[0m \u001b[0;34m\u001b[0m\u001b[0m\n\u001b[0;32m----> 8\u001b[0;31m \u001b[0mY\u001b[0m \u001b[0;34m=\u001b[0m \u001b[0;36m1\u001b[0m \u001b[0;34m/\u001b[0m \u001b[0;34m(\u001b[0m\u001b[0;36m1\u001b[0m \u001b[0;34m+\u001b[0m \u001b[0mnp\u001b[0m\u001b[0;34m.\u001b[0m\u001b[0mexp\u001b[0m\u001b[0;34m(\u001b[0m\u001b[0;34m-\u001b[0m\u001b[0mtheta\u001b[0m\u001b[0;34m@\u001b[0m\u001b[0mX\u001b[0m\u001b[0;34m)\u001b[0m\u001b[0;34m)\u001b[0m\u001b[0;34m\u001b[0m\u001b[0;34m\u001b[0m\u001b[0m\n\u001b[0m\u001b[1;32m      9\u001b[0m \u001b[0;34m\u001b[0m\u001b[0m\n\u001b[1;32m     10\u001b[0m \u001b[0mplt\u001b[0m\u001b[0;34m.\u001b[0m\u001b[0mplot\u001b[0m\u001b[0;34m(\u001b[0m\u001b[0mx\u001b[0m\u001b[0;34m,\u001b[0m\u001b[0my\u001b[0m\u001b[0;34m,\u001b[0m\u001b[0;34m'b'\u001b[0m\u001b[0;34m)\u001b[0m\u001b[0;34m\u001b[0m\u001b[0;34m\u001b[0m\u001b[0m\n",
            "\u001b[0;31mValueError\u001b[0m: matmul: Input operand 1 has a mismatch in its core dimension 0, with gufunc signature (n?,k),(k,m?)->(n?,m?) (size 100 is different from 2)"
          ]
        }
      ]
    },
    {
      "cell_type": "code",
      "metadata": {
        "id": "aSbEA-WS3pN7",
        "colab_type": "code",
        "colab": {
          "base_uri": "https://localhost:8080/",
          "height": 283
        },
        "outputId": "aa209645-2abc-49e3-e869-d62cf64d0b5c"
      },
      "source": [
        "def sigmoid(X,theta):    \n",
        "  return 1 / (1 + np.exp(-X@theta))\n",
        "\n",
        "y = np.array([0,0,0,0,0,0,0,0,0,0,0,1,0,1,1,1,0,0,1,1,1,0,1,0,0,1,1,1,1,1,1,1,1,1,1,1])\n",
        "x = np.linspace(0,1,y.shape[0])\n",
        "x = np.c_[np.ones((x.shape[0], 1)), x]\n",
        "\n",
        "\n",
        "theta = np.array([0,2])\n",
        "\n",
        "cost = y*1\n",
        "cost[y==1] = -np.log(sigmoid(x[y==1,:],theta))\n",
        "cost[y==0] = -np.log(1-sigmoid(x[y==0,:],theta))\n",
        "\n",
        "plt.plot(x[:,1],cost,'-')\n",
        "plt.plot(x[:,1],y,'o')\n"
      ],
      "execution_count": 284,
      "outputs": [
        {
          "output_type": "execute_result",
          "data": {
            "text/plain": [
              "[<matplotlib.lines.Line2D at 0x7fc5721d2860>]"
            ]
          },
          "metadata": {
            "tags": []
          },
          "execution_count": 284
        },
        {
          "output_type": "display_data",
          "data": {
            "image/png": "[encoded data removed]",
            "text/plain": [
              "<Figure size 432x288 with 1 Axes>"
            ]
          },
          "metadata": {
            "tags": [],
            "needs_background": "light"
          }
        }
      ]
    },
    {
      "cell_type": "code",
      "metadata": {
        "id": "8FGlBj4j-5vo",
        "colab_type": "code",
        "colab": {
          "base_uri": "https://localhost:8080/",
          "height": 319
        },
        "outputId": "9ffd1f0d-ab5a-44d1-8ffa-e4184d68a661"
      },
      "source": [
        "x = np.linspace(-10,10,100)\n",
        "y = -np.log(x)\n",
        "\n",
        "plt.plot(x,y)"
      ],
      "execution_count": 285,
      "outputs": [
        {
          "output_type": "stream",
          "text": [
            "/usr/local/lib/python3.6/dist-packages/ipykernel_launcher.py:2: RuntimeWarning: invalid value encountered in log\n",
            "  \n"
          ],
          "name": "stderr"
        },
        {
          "output_type": "execute_result",
          "data": {
            "text/plain": [
              "[<matplotlib.lines.Line2D at 0x7fc572195be0>]"
            ]
          },
          "metadata": {
            "tags": []
          },
          "execution_count": 285
        },
        {
          "output_type": "display_data",
          "data": {
            "image/png": "[encoded data removed]",
            "text/plain": [
              "<Figure size 432x288 with 1 Axes>"
            ]
          },
          "metadata": {
            "tags": [],
            "needs_background": "light"
          }
        }
      ]
    },
    {
      "cell_type": "code",
      "metadata": {
        "id": "-Ke82-qgAdFD",
        "colab_type": "code",
        "colab": {
          "base_uri": "https://localhost:8080/",
          "height": 283
        },
        "outputId": "13595f43-85bb-4624-8b54-056dfeb63295"
      },
      "source": [
        "theta = np.array([0,1])\n",
        "\n",
        "x = np.linspace(0,1,100)\n",
        "x = np.c_[np.ones((x.shape[0], 1)), x]\n",
        "\n",
        "# Logistic Cost function  ¿?\n",
        "Y1 = -np.log(  sigmoid(x,theta))\n",
        "Y2 = -np.log(1-sigmoid(x,theta))\n",
        "\n",
        "plt.plot(Y1,x[:,1],'b')\n",
        "plt.plot(Y2,x[:,1],'r')\n",
        "# plt.xlim(-.05,1)"
      ],
      "execution_count": 301,
      "outputs": [
        {
          "output_type": "execute_result",
          "data": {
            "text/plain": [
              "[<matplotlib.lines.Line2D at 0x7fc571e28e80>]"
            ]
          },
          "metadata": {
            "tags": []
          },
          "execution_count": 301
        },
        {
          "output_type": "display_data",
          "data": {
            "image/png": "[encoded data removed]",
            "text/plain": [
              "<Figure size 432x288 with 1 Axes>"
            ]
          },
          "metadata": {
            "tags": [],
            "needs_background": "light"
          }
        }
      ]
    },
    {
      "cell_type": "code",
      "metadata": {
        "id": "QSQ08WKAGfpQ",
        "colab_type": "code",
        "colab": {}
      },
      "source": [
        "def sigmoid(x):\n",
        "    # Activation function used to map any real value between 0 and 1\n",
        "    return 1 / (1 + np.exp(-x))\n",
        "\n",
        "def net_input(theta, x):\n",
        "    # Computes the weighted sum of inputs\n",
        "    return np.dot(x, theta)\n",
        "\n",
        "def probability(theta, x):\n",
        "    # Returns the probability after passing through sigmoid\n",
        "    return sigmoid(net_input(theta, x))"
      ],
      "execution_count": 302,
      "outputs": []
    },
    {
      "cell_type": "code",
      "metadata": {
        "id": "9YGvyDdRGieM",
        "colab_type": "code",
        "colab": {}
      },
      "source": [
        "def cost_function(self, theta, x, y):\n",
        "    # Computes the cost function for all the training samples\n",
        "    m = x.shape[0]\n",
        "    total_cost = -(1 / m) * np.sum(\n",
        "            y * np.log(    probability(theta, x)) + (1 - y) * \n",
        "                np.log(1 - probability(theta, x))              )\n",
        "    return total_cost\n",
        "\n",
        "def gradient(self, theta, x, y):\n",
        "    # Computes the gradient of the cost function at the point theta\n",
        "    m = x.shape[0]\n",
        "    return (1 / m) * np.dot(x.T, sigmoid(net_input(theta,   x)) - y)"
      ],
      "execution_count": 304,
      "outputs": []
    },
    {
      "cell_type": "code",
      "metadata": {
        "id": "3cDRu3CwGtdb",
        "colab_type": "code",
        "colab": {
          "base_uri": "https://localhost:8080/",
          "height": 283
        },
        "outputId": "1b2f762b-1100-41bd-f3b0-5012e598d248"
      },
      "source": [
        "y = np.array([0,0,0,0,0,0,0,0,0,0,0,1,0,1,1,1,0,0,1,1,1,0,1,0,0,1,1,1,1,1,1,1,1,1,1,1])\n",
        "y = y[:, np.newaxis]\n",
        "x = np.linspace(0,1,y.shape[0])\n",
        "x = np.c_[np.ones((x.shape[0], 1)), x]\n",
        "\n",
        "\n",
        "theta = np.zeros((x.shape[1], 1))\n",
        "theta = np.array([2,10])\n",
        "\n",
        "Y = probability(theta, x)\n",
        "\n",
        "plt.plot(x[:,1],Y)\n",
        "\n",
        "\n",
        "# def fit(self, x, y, theta):\n",
        "#     opt_weights = fmin_tnc(func=cost_function, x0=theta,\n",
        "#                   fprime=gradient,args=(x, y.flatten()))\n",
        "#     return opt_weights[0]\n",
        "# parameters = fit(X, y, theta)\n",
        "\n"
      ],
      "execution_count": 281,
      "outputs": [
        {
          "output_type": "execute_result",
          "data": {
            "text/plain": [
              "[<matplotlib.lines.Line2D at 0x7fc5722672e8>]"
            ]
          },
          "metadata": {
            "tags": []
          },
          "execution_count": 281
        },
        {
          "output_type": "display_data",
          "data": {
            "image/png": "[encoded data removed]",
            "text/plain": [
              "<Figure size 432x288 with 1 Axes>"
            ]
          },
          "metadata": {
            "tags": [],
            "needs_background": "light"
          }
        }
      ]
    }
  ]
}