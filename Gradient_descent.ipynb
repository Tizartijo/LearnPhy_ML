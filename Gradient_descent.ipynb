{
  "nbformat": 4,
  "nbformat_minor": 0,
  "metadata": {
    "colab": {
      "name": "Gradient_descent.ipynb",
      "provenance": [],
      "collapsed_sections": [],
      "authorship_tag": "ABX9TyNdfBtL0WALIz0xkJLVpJnz",
      "include_colab_link": true
    },
    "kernelspec": {
      "name": "python3",
      "display_name": "Python 3"
    }
  },
  "cells": [
    {
      "cell_type": "markdown",
      "metadata": {
        "id": "view-in-github",
        "colab_type": "text"
      },
      "source": [
        "<a href=\"https://colab.research.google.com/github/Tizartijo/LearnPhy_ML/blob/master/Gradient_descent.ipynb\" target=\"_parent\"><img src=\"https://colab.research.google.com/assets/colab-badge.svg\" alt=\"Open In Colab\"/></a>"
      ]
    },
    {
      "cell_type": "markdown",
      "metadata": {
        "id": "kEYUbkLhMGSL",
        "colab_type": "text"
      },
      "source": [
        "# **GRADIENT DESCENT ALGORITHMS**\n",
        "\n",
        "---"
      ]
    },
    {
      "cell_type": "markdown",
      "metadata": {
        "id": "_1ysSUZdLnkA",
        "colab_type": "text"
      },
      "source": [
        "# Implementation of linear regression with two coefficients"
      ]
    },
    {
      "cell_type": "code",
      "metadata": {
        "id": "pFw3A-0TLp3J",
        "colab_type": "code",
        "colab": {}
      },
      "source": [
        "import numpy as np\n",
        "from matplotlib import pyplot as plt\n",
        "\n",
        "def batch_grad_desc(X,y,coef,alfa=0.5,nV=100):  \n",
        "  N = y.shape[0]\n",
        "\n",
        "  for i in range(nV):\n",
        "    yhat  = X@coef \n",
        "    error = yhat-y\n",
        "\n",
        "    # Partial derivative and coefficient update\n",
        "    coef[0] = coef[0] - alfa * 1/N * np.sum(error)\n",
        "    coef[1] = coef[1] - alfa * 1/N * np.sum(error*X[:,1])\n",
        "  return coef\n",
        "\n",
        "# Linear regression calculation by gradient descent algorithm\n",
        "np.random.seed(303)\n",
        "\n",
        "# Settings\n",
        "N    = 500\n",
        "nV   = 500\n",
        "alfa = 0.5\n",
        "\n",
        "coef = np.array([0.0,0.0]) # Initial guess\n",
        "x = np.random.rand(N)\n",
        "y = -x+np.random.randn(N)*0.5\n",
        "\n",
        "# add a column of ones before x vector\n",
        "X = np.vstack((np.ones_like(x),x)).T\n",
        "\n",
        "# Gradient descent algorithm\n",
        "coef = batch_grad_desc(X,y,coef,alfa,nV)\n",
        "\n",
        "# Coefficient projection\n",
        "yhat  = X@coef \n",
        "\n",
        "# Compare result with linear regression fit by matrix multiplication\n",
        "beta = np.linalg.inv(X.T@X) @ (X.T@y)\n",
        "\n",
        "print(coef)\n",
        "print(beta)\n",
        "\n",
        "plt.plot(x,y,'.')\n",
        "plt.plot(x,yhat)\n",
        "plt.show()"
      ],
      "execution_count": null,
      "outputs": []
    },
    {
      "cell_type": "markdown",
      "metadata": {
        "id": "cZWVaJ7XLtLz",
        "colab_type": "text"
      },
      "source": [
        "# Implementation of linear regression with N coefficients"
      ]
    },
    {
      "cell_type": "code",
      "metadata": {
        "id": "UFf18JlljCoK",
        "colab_type": "code",
        "colab": {
          "base_uri": "https://localhost:8080/",
          "height": 319
        },
        "outputId": "42082052-fc47-4706-d798-0c91d28f3d30"
      },
      "source": [
        "import numpy as np\n",
        "from matplotlib import pyplot as plt\n",
        "\n",
        "def batch_grad_desc(X,y,coef,alfa=0.05,nV=100):  \n",
        "  N  = X.shape[0]\n",
        "  nc = coef.shape[0]\n",
        "  E = np.zeros(nV)\n",
        "\n",
        "  for i in range(nV):\n",
        "    yhat  = X@coef \n",
        "    error = yhat-y\n",
        "    E[i] = np.mean(error**2)\n",
        "\n",
        "    # Partial derivative and coefficient update\n",
        "    for c in range(nc):\n",
        "      coef[c] = coef[c] - alfa * 1/N * np.sum(error*X[:,c])\n",
        "\n",
        "  return coef,E\n",
        "\n",
        "# Linear regression calculation by gradient descent algorithm\n",
        "np.random.seed(28)\n",
        "\n",
        "# Settings\n",
        "N    = 1000\n",
        "nvar = 5\n",
        "nV   = 100\n",
        "alfa = 0.05\n",
        "\n",
        "# Draw x and calculate y\n",
        "theta = np.random.randint(-10,10,nvar+1)\n",
        "\n",
        "X = np.ones((N,nvar+1))\n",
        "for nc in range(nvar):\n",
        "  X[:,nc] = np.random.uniform(-2, 2, N)\n",
        "noise = np.random.randn(N)\n",
        "y = X @ theta + noise \n",
        "\n",
        "# Gradient descent algorithm\n",
        "coef = np.zeros(nvar+1) # Initial guess\n",
        "coef,E = batch_grad_desc(X,y,coef,alfa,nV)\n",
        "\n",
        "# Compare result with normal linear regression fit \n",
        "beta = np.linalg.inv(X.T@X) @ X.T@y\n",
        "\n",
        "# Coefficient projection\n",
        "yhat1  = X@beta \n",
        "yhat2  = X@coef \n",
        "\n",
        "error1 = np.mean((y-yhat1)**2)\n",
        "error2 = np.mean((y-yhat2)**2)\n",
        "\n",
        "print(coef)\n",
        "print(beta)\n",
        "print(error1,error2)\n",
        "\n",
        "plt.plot(E)\n",
        "plt.plot(np.ones(nV)*error1)\n",
        "# plt.plot(y,yhat1,'.')\n",
        "# plt.plot(y,yhat2,'.')\n",
        "plt.show()\n"
      ],
      "execution_count": null,
      "outputs": [
        {
          "output_type": "stream",
          "text": [
            "[-8.99123775 -4.99557375 -9.91975229 -6.9693898   1.95543659 -9.92359539]\n",
            "[-8.99898119 -4.99744771 -9.93018515 -6.98671068  1.96456569 -9.99358099]\n",
            "0.9724437192522524 0.9778868106989187\n"
          ],
          "name": "stdout"
        },
        {
          "output_type": "display_data",
          "data": {
            "image/png": "[encoded data removed]",
            "text/plain": [
              "<Figure size 432x288 with 1 Axes>"
            ]
          },
          "metadata": {
            "tags": [],
            "needs_background": "light"
          }
        }
      ]
    },
    {
      "cell_type": "markdown",
      "metadata": {
        "id": "3dFYQFEUL2oa",
        "colab_type": "text"
      },
      "source": [
        "# Implementation of Polinomial regression ¿?"
      ]
    },
    {
      "cell_type": "code",
      "metadata": {
        "id": "799zqmgwL1jm",
        "colab_type": "code",
        "colab": {}
      },
      "source": [
        ""
      ],
      "execution_count": null,
      "outputs": []
    },
    {
      "cell_type": "code",
      "metadata": {
        "id": "39PL5bCnLlH_",
        "colab_type": "code",
        "colab": {}
      },
      "source": [
        ""
      ],
      "execution_count": null,
      "outputs": []
    }
  ]
}