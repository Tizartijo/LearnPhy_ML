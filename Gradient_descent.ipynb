{
  "nbformat": 4,
  "nbformat_minor": 0,
  "metadata": {
    "colab": {
      "name": "Gradient_descent.ipynb",
      "provenance": [],
      "collapsed_sections": [],
      "authorship_tag": "ABX9TyM7l5bAg1Y/y21QSZ1jv+Yb",
      "include_colab_link": true
    },
    "kernelspec": {
      "name": "python3",
      "display_name": "Python 3"
    }
  },
  "cells": [
    {
      "cell_type": "markdown",
      "metadata": {
        "id": "view-in-github",
        "colab_type": "text"
      },
      "source": [
        "<a href=\"https://colab.research.google.com/github/Tizartijo/LearnPhy_ML/blob/master/Gradient_descent.ipynb\" target=\"_parent\"><img src=\"https://colab.research.google.com/assets/colab-badge.svg\" alt=\"Open In Colab\"/></a>"
      ]
    },
    {
      "cell_type": "markdown",
      "metadata": {
        "id": "kEYUbkLhMGSL",
        "colab_type": "text"
      },
      "source": [
        "```\n",
        "\n",
        "```\n",
        "\n",
        "# **GRADIENT DESCENT ALGORITHMS**\n",
        "(Functions by hand)\n",
        "\n",
        "---"
      ]
    },
    {
      "cell_type": "markdown",
      "metadata": {
        "id": "_1ysSUZdLnkA",
        "colab_type": "text"
      },
      "source": [
        "# Implementation of linear regression with two coefficients"
      ]
    },
    {
      "cell_type": "code",
      "metadata": {
        "id": "pFw3A-0TLp3J",
        "colab_type": "code",
        "colab": {
          "base_uri": "https://localhost:8080/",
          "height": 301
        },
        "cellView": "form",
        "outputId": "56de0940-2964-4c5f-bf60-a8e5a846269e"
      },
      "source": [
        "#@title \n",
        "import numpy as np\n",
        "from matplotlib import pyplot as plt\n",
        "\n",
        "def batch_grad_desc(X,y,coef,alfa=0.5,nV=100):  \n",
        "  N = y.shape[0]\n",
        "\n",
        "  for i in range(nV):\n",
        "    yhat  = X@coef \n",
        "    error = yhat-y\n",
        "\n",
        "    # Partial derivative and coefficient update\n",
        "    coef[0] = coef[0] - alfa * 1/N * np.sum(error)\n",
        "    coef[1] = coef[1] - alfa * 1/N * np.sum(error*X[:,1])\n",
        "  return coef\n",
        "\n",
        "# Linear regression calculation by gradient descent algorithm\n",
        "np.random.seed(303)\n",
        "\n",
        "# Settings\n",
        "N    = 500\n",
        "nV   = 500\n",
        "alfa = 0.5\n",
        "\n",
        "coef = np.array([0.0,0.0]) # Initial guess\n",
        "x = np.random.rand(N)\n",
        "y = -x+np.random.randn(N)*0.5\n",
        "\n",
        "# add a column of ones before x vector\n",
        "X = np.vstack((np.ones_like(x),x)).T\n",
        "\n",
        "# Gradient descent algorithm\n",
        "coef = batch_grad_desc(X,y,coef,alfa,nV)\n",
        "\n",
        "# Coefficient projection\n",
        "yhat  = X@coef \n",
        "\n",
        "# Compare result with linear regression fit by matrix multiplication\n",
        "beta = np.linalg.inv(X.T@X) @ (X.T@y)\n",
        "\n",
        "print(coef)\n",
        "print(beta)\n",
        "\n",
        "plt.plot(x,y,'.')\n",
        "plt.plot(x,yhat)\n",
        "plt.show()"
      ],
      "execution_count": 1,
      "outputs": [
        {
          "output_type": "stream",
          "text": [
            "[ 0.05023546 -1.04498937]\n",
            "[ 0.05023547 -1.0449894 ]\n"
          ],
          "name": "stdout"
        },
        {
          "output_type": "display_data",
          "data": {
            "image/png": "[encoded data removed]",
            "text/plain": [
              "<Figure size 432x288 with 1 Axes>"
            ]
          },
          "metadata": {
            "tags": [],
            "needs_background": "light"
          }
        }
      ]
    },
    {
      "cell_type": "markdown",
      "metadata": {
        "id": "cZWVaJ7XLtLz",
        "colab_type": "text"
      },
      "source": [
        "# Implementation of linear regression with N coefficients"
      ]
    },
    {
      "cell_type": "code",
      "metadata": {
        "id": "UFf18JlljCoK",
        "colab_type": "code",
        "colab": {
          "base_uri": "https://localhost:8080/",
          "height": 337
        },
        "outputId": "8cd0918f-8906-4055-9023-3610deae6fdc"
      },
      "source": [
        "import numpy as np\n",
        "from matplotlib import pyplot as plt\n",
        "\n",
        "def ordinary_least_squares(X, y):\n",
        "  return np.linalg.inv(X.T @ X) @ X.T @ y\n",
        "\n",
        "def proj(X,theta):\n",
        "  return np.dot(X, theta) \n",
        "\n",
        "def grad_desc(X,y,theta,alfa=0.05,nV=100):  \n",
        "  N  = X.shape[0]\n",
        "  E = np.zeros(nV)\n",
        "\n",
        "  for i in range(nV):\n",
        "    yhat  = proj(X,theta)\n",
        "    error = yhat-y    \n",
        "    \n",
        "    theta = theta - alfa/N * np.dot(X.T,error) # Partial derivative and coefficient update    \n",
        "    E[i]  = np.mean(error**2) # Error\n",
        "  return theta,E\n",
        "\n",
        "# Linear regression calculation by gradient descent algorithm\n",
        "np.random.seed(81)\n",
        "\n",
        "# Settings\n",
        "N,nvar,nV,alfa = 40,2,100,0.05\n",
        "\n",
        "# Draw x and calculate y\n",
        "theta = np.random.randint(-10,10,nvar+1)       # theta = [0, -2, -3] \n",
        "\n",
        "X = np.ones((N,nvar+1))\n",
        "for nc in range(nvar):\n",
        "  X[:,nc] = np.random.uniform(-2, 2, N)\n",
        "y = proj(X,theta) + np.random.randn(N) \n",
        "\n",
        "# Fit\n",
        "coef,E = grad_desc(X,y,np.zeros(nvar+1),alfa,nV) # Gradient descent algorithm\n",
        "beta   = ordinary_least_squares(X, y)            # linear regression fit \n",
        "\n",
        "yGD,yLi     = proj(X,coef),        proj(X,beta)        # Projection\n",
        "errDG,errLi = np.mean((y-yGD)**2), np.mean((y-yLi)**2) # Error\n",
        "\n",
        "# Plots\n",
        "plt.subplot(1,2,1)\n",
        "plt.plot(E)\n",
        "plt.plot(np.ones(nV)*error1)\n",
        "\n",
        "plt.subplot(1,2,2)\n",
        "plt.plot(y,yhat1,'.')\n",
        "plt.plot(y,yhat2,'.')\n",
        "plt.show()\n",
        "\n",
        "print('nCoeff:',coef.shape[0])\n",
        "print('Coef 1:',coef)\n",
        "print('Coef 2:',beta)\n",
        "print('Errors:',error1,error2)"
      ],
      "execution_count": 17,
      "outputs": [
        {
          "output_type": "display_data",
          "data": {
            "image/png": "[encoded data removed]",
            "text/plain": [
              "<Figure size 432x288 with 2 Axes>"
            ]
          },
          "metadata": {
            "tags": [],
            "needs_background": "light"
          }
        },
        {
          "output_type": "stream",
          "text": [
            "nCoeff: 3\n",
            "Coef 1: [-6.76736091 -8.90174253  4.03045679]\n",
            "Coef 2: [-6.78759012 -8.91044652  4.04631987]\n",
            "Errors: 0.7552233717048324 0.8064616401108999\n"
          ],
          "name": "stdout"
        }
      ]
    },
    {
      "cell_type": "markdown",
      "metadata": {
        "id": "3dFYQFEUL2oa",
        "colab_type": "text"
      },
      "source": [
        "# Implementation of Polinomial regression ¿?\n",
        "\n",
        "---\n"
      ]
    },
    {
      "cell_type": "markdown",
      "metadata": {
        "id": "D9AS5MZpdfl6",
        "colab_type": "text"
      },
      "source": [
        "### Structure design matrix\n",
        "\n",
        "Create a function (`make_design_matrix`) that structures the design matrix given the input data and the order of the polynomial you wish to fit"
      ]
    },
    {
      "cell_type": "code",
      "metadata": {
        "id": "5x55YY4G4XJW",
        "colab_type": "code",
        "colab": {}
      },
      "source": [
        "import numpy as np\n",
        "from matplotlib import pyplot as plt"
      ],
      "execution_count": 18,
      "outputs": []
    },
    {
      "cell_type": "code",
      "metadata": {
        "id": "799zqmgwL1jm",
        "colab_type": "code",
        "colab": {},
        "cellView": "form"
      },
      "source": [
        "#@title make_design_matrix\n",
        "def make_design_matrix(x, order):\n",
        "  # Broadcast to shape (n x 1) so dimensions work\n",
        "  if x.ndim == 1:\n",
        "    x = x[:, None]\n",
        "\n",
        "  #if x has more than one feature, we don't want multiple columns of ones so we assign\n",
        "  # x^0 here\n",
        "  design_matrix = np.ones((x.shape[0], 1))\n",
        "\n",
        "  # Loop through rest of degrees and stack columns (hint: np.hstack)\n",
        "  for degree in range(1, order + 1):\n",
        "      design_matrix = np.hstack((design_matrix, x**degree))\n",
        "\n",
        "  return design_matrix"
      ],
      "execution_count": 19,
      "outputs": []
    },
    {
      "cell_type": "code",
      "metadata": {
        "id": "GtVH6CRJjf9b",
        "colab_type": "code",
        "colab": {},
        "cellView": "form"
      },
      "source": [
        "#@title plot_fitted_polynomials\n",
        "def plot_fitted_polynomials(x, y, theta_hat,order):\n",
        "  \"\"\" Plot polynomials of different orders\n",
        "\n",
        "  Args:\n",
        "    x (ndarray): input vector of shape (n_samples)\n",
        "    y (ndarray): vector of measurements of shape (n_samples)\n",
        "    theta_hat (dict): polynomial regression weights for different orders\n",
        "  \"\"\"\n",
        "\n",
        "  x_grid = np.linspace(x.min() - .5, x.max() + .5)\n",
        "\n",
        "  X_design = make_design_matrix(x_grid, order)\n",
        "  y_fit    = X_design @ theta_hat\n",
        "\n",
        "  return x_grid,y_fit"
      ],
      "execution_count": 20,
      "outputs": []
    },
    {
      "cell_type": "markdown",
      "metadata": {
        "id": "3HG5_dltd13h",
        "colab_type": "text"
      },
      "source": [
        "### Fitting polynomial regression models with different orders \n",
        "\n",
        "\n",
        "Fit polynomial regression models to find the regression coefficients ($\\theta_0, \\theta_1, \\theta_2,$ ...) by solving the least squares problem. Create a function `solve_poly_reg` that loops over different order polynomials (up to `max_order`), fits that model, and saves out the weights for each. You may invoke the `ordinary_least_squares` function."
      ]
    },
    {
      "cell_type": "code",
      "metadata": {
        "id": "39PL5bCnLlH_",
        "colab_type": "code",
        "colab": {
          "base_uri": "https://localhost:8080/",
          "height": 301
        },
        "outputId": "e9fa6941-fab1-4220-fff4-631de57e3d3d"
      },
      "source": [
        "# Generate random samples\n",
        "np.random.seed(121)\n",
        "n_samples = 300\n",
        "x = np.random.uniform(-2, 2.5, n_samples)  # inputs uniformly sampled from [-2, 2.5)\n",
        "y =  x**2 - x - 2   # computing the outputs\n",
        "\n",
        "output_noise = 1/8 * np.random.randn(n_samples)\n",
        "y += output_noise  # adding some output noise\n",
        "\n",
        "input_noise = 1/2 * np.random.randn(n_samples)\n",
        "x += input_noise  # adding some input noise\n",
        "\n",
        "# Fit polynomial regression by fitting with linear regression\n",
        "order = 4\n",
        "alfa = 0.0001\n",
        "nV   = 100000\n",
        "\n",
        "X_design = make_design_matrix(x, order)       # Create design matrix\n",
        "beta = ordinary_least_squares(X_design, y)    # Fit polynomial model by simple linear least squares\n",
        "coef,E = batch_grad_desc(X_design,y,np.zeros(order+1),alfa,nV) # Fit by gradient descent (linear fitting)\n",
        "\n",
        "print(beta)\n",
        "print(coef)\n",
        "\n",
        "xgd,ygd   = plot_fitted_polynomials(x, y, coef,order)\n",
        "xlin,ylin = plot_fitted_polynomials(x, y, beta,order)\n",
        "\n",
        "plt.plot(x,y,'.')\n",
        "plt.plot(xgd,ygd,'r')\n",
        "plt.plot(xlin,ylin,'b')\n",
        "plt.show()"
      ],
      "execution_count": 127,
      "outputs": [
        {
          "output_type": "stream",
          "text": [
            "[-1.65430891 -1.06184651  0.91838323  0.10285994 -0.05894612]\n",
            "[-1.57019393 -0.99111648  0.85469466  0.0871241  -0.05083519]\n"
          ],
          "name": "stdout"
        },
        {
          "output_type": "display_data",
          "data": {
            "image/png": "[encoded data removed]",
            "text/plain": [
              "<Figure size 432x288 with 1 Axes>"
            ]
          },
          "metadata": {
            "tags": [],
            "needs_background": "light"
          }
        }
      ]
    },
    {
      "cell_type": "markdown",
      "metadata": {
        "id": "5QoaapthoRJW",
        "colab_type": "text"
      },
      "source": [
        "# Sigmoid function\n",
        "\n",
        "---"
      ]
    },
    {
      "cell_type": "code",
      "metadata": {
        "id": "O8QeIw7f4anQ",
        "colab_type": "code",
        "colab": {}
      },
      "source": [
        "import numpy as np\n",
        "from matplotlib import pyplot as plt"
      ],
      "execution_count": null,
      "outputs": []
    },
    {
      "cell_type": "code",
      "metadata": {
        "id": "g45uNkn6E7HG",
        "colab_type": "code",
        "colab": {
          "base_uri": "https://localhost:8080/",
          "height": 319
        },
        "outputId": "519017b9-d93e-4f6b-eb84-af4d52b28a64"
      },
      "source": [
        "def sigmoid(x):    \n",
        "    return 1 / (1 + np.exp(-x))  # Activation function used to map any real value between 0 and 1\n",
        "\n",
        "def proj(X,theta):\n",
        "  return np.dot(X, theta) \n",
        "\n",
        "def grad_desc(X,y,theta,alfa=0.05,nV=100):  \n",
        "  N  = X.shape[0]\n",
        "  E = np.zeros(nV)\n",
        "\n",
        "  for i in range(nV):\n",
        "    yhat  = sigmoid(proj(X,theta))\n",
        "    error = yhat-y    \n",
        "\n",
        "    theta = theta - alfa/N * np.dot(X.T,error) # Partial derivative and coefficient update    \n",
        "    E[i]  = np.mean(error**2) # Error\n",
        "  return theta,E\n",
        "\n",
        "# Logistic regression calculation by gradient descent algorithm\n",
        "\n",
        "# Settings\n",
        "N,nvar,nV,alfa = 40, 1, 10000, .1\n",
        "\n",
        "# Draw x and calculate y\n",
        "y = np.array([0,0,0,0,0,0,0,0,0,0,0,1,0,1,1,1,0,0,1,1,1,0,1,0,0,1,1,1,1,1,1,1,1,1,1,1])\n",
        "# y = 1-y\n",
        "X = np.linspace(0,1,y.shape[0])\n",
        "X = np.c_[np.ones((X.shape[0], 1)), X]\n",
        "\n",
        "# Fit\n",
        "coef,E = grad_desc(X,y,np.zeros(nvar+1),alfa,nV) # Gradient descent algorithm\n",
        "\n",
        "yGD   = sigmoid(proj(X,coef))     # Projection\n",
        "errDG = np.mean((y-yGD)**2)       # Error\n",
        "\n",
        "# Plots\n",
        "plt.subplot(1,2,1)\n",
        "plt.plot(E)\n",
        "\n",
        "plt.subplot(1,2,2)\n",
        "plt.plot(X[:,1],yGD)\n",
        "plt.plot(X[:,1],y,'o')\n",
        "plt.show()\n",
        "\n",
        "print('nCoeff:',coef.shape[0])\n",
        "print('Coef 1:',coef)\n",
        "print('Errors:',error1,error2)"
      ],
      "execution_count": 113,
      "outputs": [
        {
          "output_type": "display_data",
          "data": {
            "image/png": "[encoded data removed]",
            "text/plain": [
              "<Figure size 432x288 with 2 Axes>"
            ]
          },
          "metadata": {
            "tags": [],
            "needs_background": "light"
          }
        },
        {
          "output_type": "stream",
          "text": [
            "nCoeff: 2\n",
            "Coef 1: [-3.46024431  7.36233377]\n",
            "Errors: 0.7552233717048324 0.8064616401108999\n"
          ],
          "name": "stdout"
        }
      ]
    },
    {
      "cell_type": "code",
      "metadata": {
        "id": "9YGvyDdRGieM",
        "colab_type": "code",
        "colab": {}
      },
      "source": [
        "def sigmoid(x):\n",
        "    # Activation function used to map any real value between 0 and 1\n",
        "    return 1 / (1 + np.exp(-x))\n",
        "\n",
        "def net_input(theta, x):\n",
        "    # Computes the weighted sum of inputs\n",
        "    return np.dot(x, theta)\n",
        "\n",
        "def probability(theta, x):\n",
        "    # Returns the probability after passing through sigmoid\n",
        "    return sigmoid(net_input(theta, x))\n",
        "\n",
        "def cost_function(theta, x, y):\n",
        "    # Computes the cost function for all the training samples\n",
        "    m = x.shape[0]\n",
        "    total_cost = -(1 / m) * np.sum(\n",
        "            y * np.log(    probability(theta, x)) + (1 - y) * \n",
        "                np.log(1 - probability(theta, x))              )\n",
        "    return total_cost\n",
        "\n",
        "def gradient(theta, x, y):\n",
        "    # Computes the gradient of the cost function at the point theta\n",
        "    m = x.shape[0]\n",
        "    return (1 / m) * np.dot(x.T, sigmoid(net_input(theta,   x)) - y)"
      ],
      "execution_count": 105,
      "outputs": []
    },
    {
      "cell_type": "markdown",
      "metadata": {
        "id": "sA6iajSROuDM",
        "colab_type": "text"
      },
      "source": [
        "Ejemplo obtenido de: https://towardsdatascience.com/building-a-logistic-regression-in-python-301d27367c24\n",
        "\n",
        "No logro hacer que corra :/"
      ]
    },
    {
      "cell_type": "code",
      "metadata": {
        "id": "3cDRu3CwGtdb",
        "colab_type": "code",
        "colab": {
          "base_uri": "https://localhost:8080/",
          "height": 35
        },
        "outputId": "dfff3fe1-d3fb-48c2-928b-40c59f090954"
      },
      "source": [
        "\n",
        "\n",
        "from scipy.optimize import fmin_tnc\n",
        "\n",
        "# Draw x and calculate y\n",
        "y = np.array([0,0,0,0,0,0,0,0,0,0,0,1,0,1,1,1,0,0,1,1,1,0,1,0,0,1,1,1,1,1,1,1,1,1,1,1])\n",
        "# y = 1-y\n",
        "y = y[:, np.newaxis]\n",
        "\n",
        "X = np.linspace(0,1,y.shape[0])\n",
        "X = np.c_[np.ones((X.shape[0], 1)), X]\n",
        "\n",
        "\n",
        "\n",
        "theta = np.zeros((x.shape[1], 1))\n",
        "\n",
        "def fit(x, y, theta):\n",
        "    opt_weights,g = fmin_tnc(func=cost_function, x0=theta,\n",
        "                           fprime=gradient,args=(x, y.flatten()))\n",
        "    return opt_weights[0]\n",
        "parameters = fit(X, y, theta)\n",
        "\n",
        "\n",
        "# def fit(self, x, y, theta):\n",
        "#     opt_weights = fmin_tnc(func=cost_function, x0=theta,\n",
        "#                   fprime=gradient,args=(x, y.flatten()))\n",
        "#     return opt_weights[0]\n",
        "# parameters = fit(X, y, theta)\n",
        "plt.plot(X_examples[:,17], Y_labels,'o')\n",
        "plt.show()\n"
      ],
      "execution_count": 108,
      "outputs": [
        {
          "output_type": "execute_result",
          "data": {
            "text/plain": [
              "<function __main__.cost_function>"
            ]
          },
          "metadata": {
            "tags": []
          },
          "execution_count": 108
        }
      ]
    }
  ]
}